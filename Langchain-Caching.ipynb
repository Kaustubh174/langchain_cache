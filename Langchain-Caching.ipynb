{
 "cells": [
  {
   "cell_type": "markdown",
   "id": "d46b9015-590b-40cd-bd32-ad0ccfdd9f9c",
   "metadata": {
    "jupyter": {
     "source_hidden": true
    }
   },
   "source": [
    "# Langchain Caching LLM response "
   ]
  },
  {
   "cell_type": "code",
   "execution_count": 9,
   "id": "1c0d4c1f-bde4-4f5e-bb78-b45f9758b6ee",
   "metadata": {},
   "outputs": [],
   "source": [
    "import os\n",
    "os.environ['OPENAI_API_KEY'] = 'Your-api-key'  #paste your api key here"
   ]
  },
  {
   "cell_type": "markdown",
   "id": "a3eeb59b-3568-45c3-a197-2c4523bde43c",
   "metadata": {
    "jupyter": {
     "source_hidden": true
    }
   },
   "source": [
    "## In-Memory Caching "
   ]
  },
  {
   "cell_type": "code",
   "execution_count": 12,
   "id": "22ac8fe6-c4b9-4c59-a663-6e994834f34b",
   "metadata": {},
   "outputs": [],
   "source": [
    "from langchain.globals import set_llm_cache\n",
    "from langchain_openai import OpenAI\n",
    "llm = OpenAI()"
   ]
  },
  {
   "cell_type": "code",
   "execution_count": 14,
   "id": "f11139b2-092f-43e7-b75a-31666dfdf2dc",
   "metadata": {},
   "outputs": [
    {
     "name": "stdout",
     "output_type": "stream",
     "text": [
      "CPU times: total: 0 ns\n",
      "Wall time: 2.56 s\n"
     ]
    },
    {
     "data": {
      "text/plain": [
       "\"\\n\\nNewton's second law of motion states that the acceleration of an object is directly proportional to the net force acting on it and inversely proportional to its mass. This can be expressed mathematically as F=ma, where F is the net force, m is the mass of the object, and a is the acceleration. This means that the greater the force applied to an object, the greater its acceleration will be, and the more massive the object, the slower its acceleration will be for the same force.\""
      ]
     },
     "execution_count": 14,
     "metadata": {},
     "output_type": "execute_result"
    }
   ],
   "source": [
    "%%time \n",
    "from langchain.cache import InMemoryCache\n",
    "set_llm_cache(InMemoryCache())\n",
    "prompt = 'what is newtons second law of motion?'\n",
    "llm.invoke(prompt)"
   ]
  },
  {
   "cell_type": "code",
   "execution_count": 15,
   "id": "2c695336-03df-4b15-982c-52160fecca92",
   "metadata": {},
   "outputs": [
    {
     "name": "stdout",
     "output_type": "stream",
     "text": [
      "CPU times: total: 0 ns\n",
      "Wall time: 0 ns\n"
     ]
    },
    {
     "data": {
      "text/plain": [
       "\"\\n\\nNewton's second law of motion states that the acceleration of an object is directly proportional to the net force acting on it and inversely proportional to its mass. This can be expressed mathematically as F=ma, where F is the net force, m is the mass of the object, and a is the acceleration. This means that the greater the force applied to an object, the greater its acceleration will be, and the more massive the object, the slower its acceleration will be for the same force.\""
      ]
     },
     "execution_count": 15,
     "metadata": {},
     "output_type": "execute_result"
    }
   ],
   "source": [
    "%%time\n",
    "llm.invoke(prompt)"
   ]
  },
  {
   "cell_type": "markdown",
   "id": "5cf1245c-6e70-4e95-960f-bb2f8ddb6036",
   "metadata": {
    "jupyter": {
     "source_hidden": true
    }
   },
   "source": [
    "## SQLite Caching"
   ]
  },
  {
   "cell_type": "code",
   "execution_count": 16,
   "id": "f3fbafc5-2741-4b97-b097-59e0545b1168",
   "metadata": {},
   "outputs": [
    {
     "data": {
      "text/plain": [
       "'\\n\\nsin(30) = 1/2 and cos(30) = √3/2\\n\\nTherefore, sin(30).cos(30) = (1/2)(√3/2) = √3/4 ≈ 0.866'"
      ]
     },
     "execution_count": 16,
     "metadata": {},
     "output_type": "execute_result"
    }
   ],
   "source": [
    "from langchain.cache import SQLiteCache\n",
    "set_llm_cache(SQLiteCache(database_path=\".langchain.db\"))\n",
    "\n",
    "# first request takes longer time\n",
    "llm.invoke(\"What is sin(30).cos(30)?\")\n",
    "\n",
    "#second request within cache fast respose\n",
    "llm.invoke(\"What is sin(30).cos(30)?\")"
   ]
  }
 ],
 "metadata": {
  "kernelspec": {
   "display_name": "Python 3 (ipykernel)",
   "language": "python",
   "name": "python3"
  },
  "language_info": {
   "codemirror_mode": {
    "name": "ipython",
    "version": 3
   },
   "file_extension": ".py",
   "mimetype": "text/x-python",
   "name": "python",
   "nbconvert_exporter": "python",
   "pygments_lexer": "ipython3",
   "version": "3.11.4"
  }
 },
 "nbformat": 4,
 "nbformat_minor": 5
}
